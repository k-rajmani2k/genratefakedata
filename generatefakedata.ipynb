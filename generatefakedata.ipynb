{
  "nbformat": 4,
  "nbformat_minor": 0,
  "metadata": {
    "kernelspec": {
      "display_name": "Python 3",
      "language": "python",
      "name": "python3"
    },
    "language_info": {
      "codemirror_mode": {
        "name": "ipython",
        "version": 3
      },
      "file_extension": ".py",
      "mimetype": "text/x-python",
      "name": "python",
      "nbconvert_exporter": "python",
      "pygments_lexer": "ipython3",
      "version": "3.7.0"
    },
    "colab": {
      "name": "generatefakedata.ipynb",
      "provenance": [],
      "collapsed_sections": []
    }
  },
  "cells": [
    {
      "cell_type": "markdown",
      "metadata": {
        "id": "oHmDeRQ0EHZw"
      },
      "source": [
        "###Task1: Generate data using faker for name,age ,email ,job ,address, profile etc \r\n",
        "###create dataframe and print emails and full details.\r\n",
        "\r\n",
        "---\r\n",
        "\r\n"
      ]
    },
    {
      "cell_type": "code",
      "metadata": {
        "colab": {
          "base_uri": "https://localhost:8080/"
        },
        "id": "MpWi_UVdopz1",
        "outputId": "daf4672f-26e6-48a8-87d2-32a5d32ab9ed"
      },
      "source": [
        "!pip install faker"
      ],
      "execution_count": 247,
      "outputs": [
        {
          "output_type": "stream",
          "text": [
            "Requirement already satisfied: faker in /usr/local/lib/python3.6/dist-packages (6.1.1)\n",
            "Requirement already satisfied: python-dateutil>=2.4 in /usr/local/lib/python3.6/dist-packages (from faker) (2.8.1)\n",
            "Requirement already satisfied: text-unidecode==1.3 in /usr/local/lib/python3.6/dist-packages (from faker) (1.3)\n",
            "Requirement already satisfied: six>=1.5 in /usr/local/lib/python3.6/dist-packages (from python-dateutil>=2.4->faker) (1.15.0)\n"
          ],
          "name": "stdout"
        }
      ]
    },
    {
      "cell_type": "code",
      "metadata": {
        "id": "NyMfAL1vop0N"
      },
      "source": [
        "from faker import Faker\r\n",
        "import pandas as pd\r\n",
        "import numpy as np\r\n"
      ],
      "execution_count": 248,
      "outputs": []
    },
    {
      "cell_type": "code",
      "metadata": {
        "id": "wv97j15Fop0S"
      },
      "source": [
        "job=[\"Computer Hardware Engineer\",\"Data Scientist\",\"Research Analyst\",\"Data Analyst\",\"Cloud Engineer\",\"ML Engineer\",\"Web Developer\",\"Software Development Engineer-I\",\"Software Development Engineer -II\"]"
      ],
      "execution_count": 249,
      "outputs": []
    },
    {
      "cell_type": "code",
      "metadata": {
        "id": "mWlwzr0Fop0Q"
      },
      "source": [
        "import json      \n",
        "import random\n",
        "# For student id  \n",
        "from random import randint    \n",
        "  \n",
        "fake = Faker()  \n",
        "  \n",
        "def input_data(x):  \n",
        "  \n",
        "    # dictionary  \n",
        "    student_data ={}  \n",
        "    for i in range(1, x+1):  \n",
        "        student_data[i]={}  \n",
        "        student_data[i]['id']= randint(1, 100)  \n",
        "        student_data[i]['name']= fake.name()  \n",
        "        student_data[i]['address']= fake.address()  \n",
        "        student_data[i]['Age']= str(fake.profile())  \n",
        "        student_data[i]['email']= str(fake.email())\n",
        "        student_data[i]['Job']= str(random.choice(job))\n",
        "        print(\"email no\" ,i)  \n",
        "        print(student_data[i]['email'])\n",
        "    \n",
        "    print(\"\\n\")\n",
        "    print(\"Full Details as follows:\")\n",
        "    df=pd.DataFrame(student_data)\n",
        "    with pd.option_context('display.max_rows', None, 'display.max_columns', None):  # more options can be specified also\n",
        "      print(df)\n",
        "    \n",
        "   "
      ],
      "execution_count": 250,
      "outputs": []
    },
    {
      "cell_type": "code",
      "metadata": {
        "id": "OBJ_H5p5_6EW"
      },
      "source": [
        ""
      ],
      "execution_count": 250,
      "outputs": []
    },
    {
      "cell_type": "code",
      "metadata": {
        "colab": {
          "base_uri": "https://localhost:8080/"
        },
        "id": "UxGs-BXFop0R",
        "outputId": "60b4d16a-c01c-4a29-c566-26e698168d8b"
      },
      "source": [
        "def main():  \n",
        "    \n",
        "    # Enter number of students  \n",
        "    # For the above task make this 100  \n",
        "    number_of_students = 10 \n",
        "    input_data(number_of_students)\n",
        "     \n",
        "    \n",
        "main()  "
      ],
      "execution_count": 251,
      "outputs": [
        {
          "output_type": "stream",
          "text": [
            "email no 1\n",
            "mlopez@bridges-perez.com\n",
            "email no 2\n",
            "hannahproctor@gmail.com\n",
            "email no 3\n",
            "christopher64@davis.com\n",
            "email no 4\n",
            "raymondmartinez@hotmail.com\n",
            "email no 5\n",
            "kyle76@yahoo.com\n",
            "email no 6\n",
            "lisacruz@lopez-campbell.com\n",
            "email no 7\n",
            "lmorris@hotmail.com\n",
            "email no 8\n",
            "ann73@yahoo.com\n",
            "email no 9\n",
            "howellgary@yahoo.com\n",
            "email no 10\n",
            "sarajohnson@yahoo.com\n",
            "\n",
            "\n",
            "Full Details as follows:\n",
            "                                                        1   \\\n",
            "id                                                      15   \n",
            "name                                   Melissa Blankenship   \n",
            "address  97932 Rosales Bridge\\nEast Natashahaven, VT 93456   \n",
            "Age      {'job': 'Regulatory affairs officer', 'company...   \n",
            "email                             mlopez@bridges-perez.com   \n",
            "Job                             Computer Hardware Engineer   \n",
            "\n",
            "                                                        2   \\\n",
            "id                                                      95   \n",
            "name                                         James Skinner   \n",
            "address              5566 Landry Inlet\\nWest Ann, RI 38055   \n",
            "Age      {'job': 'Secretary, company', 'company': 'West...   \n",
            "email                              hannahproctor@gmail.com   \n",
            "Job                        Software Development Engineer-I   \n",
            "\n",
            "                                                        3   \\\n",
            "id                                                       3   \n",
            "name                                        Randall Phelps   \n",
            "address                   Unit 8427 Box 7770\\nDPO AE 49526   \n",
            "Age      {'job': 'Jewellery designer', 'company': 'Kram...   \n",
            "email                              christopher64@davis.com   \n",
            "Job                                         Cloud Engineer   \n",
            "\n",
            "                                                        4   \\\n",
            "id                                                      38   \n",
            "name                                        Denise Coleman   \n",
            "address               37314 Mark Lodge\\nGregland, LA 65734   \n",
            "Age      {'job': 'Psychotherapist, dance movement', 'co...   \n",
            "email                          raymondmartinez@hotmail.com   \n",
            "Job                                       Research Analyst   \n",
            "\n",
            "                                                        5   \\\n",
            "id                                                      13   \n",
            "name                                      Ashley Maldonado   \n",
            "address  9754 Ortiz Bridge Apt. 504\\nPort Jesusstad, ME...   \n",
            "Age      {'job': 'Community education officer', 'compan...   \n",
            "email                                     kyle76@yahoo.com   \n",
            "Job                                           Data Analyst   \n",
            "\n",
            "                                                        6   \\\n",
            "id                                                      83   \n",
            "name                                          Pamela Price   \n",
            "address            535 Gillespie Rue\\nWest Debra, VA 04057   \n",
            "Age      {'job': 'Engineer, electrical', 'company': 'Kr...   \n",
            "email                          lisacruz@lopez-campbell.com   \n",
            "Job                                           Data Analyst   \n",
            "\n",
            "                                                        7   \\\n",
            "id                                                      28   \n",
            "name                                        Nancy Gonzalez   \n",
            "address          415 Brown Ranch\\nLake Joseshire, AZ 11045   \n",
            "Age      {'job': 'Brewing technologist', 'company': 'Hi...   \n",
            "email                                  lmorris@hotmail.com   \n",
            "Job                             Computer Hardware Engineer   \n",
            "\n",
            "                                                        8   \\\n",
            "id                                                      61   \n",
            "name                                            John Novak   \n",
            "address     97183 Michael Ferry\\nNew Williamside, TX 77160   \n",
            "Age      {'job': 'Bookseller', 'company': 'Erickson-Far...   \n",
            "email                                      ann73@yahoo.com   \n",
            "Job                                         Data Scientist   \n",
            "\n",
            "                                                        9   \\\n",
            "id                                                      32   \n",
            "name                                       Patricia Valdez   \n",
            "address        5066 Miller Stravenue\\nAaronmouth, MN 81191   \n",
            "Age      {'job': 'Research scientist (maths)', 'company...   \n",
            "email                                 howellgary@yahoo.com   \n",
            "Job                                          Web Developer   \n",
            "\n",
            "                                                        10  \n",
            "id                                                       2  \n",
            "name                                     Gregory Rodriguez  \n",
            "address     638 Gray Place Apt. 932\\nGonzalezton, DC 89570  \n",
            "Age      {'job': 'IT consultant', 'company': 'Harmon-Ma...  \n",
            "email                                sarajohnson@yahoo.com  \n",
            "Job                                         Data Scientist  \n"
          ],
          "name": "stdout"
        }
      ]
    },
    {
      "cell_type": "code",
      "metadata": {
        "id": "Ahab_OjUuYvL"
      },
      "source": [
        ""
      ],
      "execution_count": 251,
      "outputs": []
    }
  ]
}